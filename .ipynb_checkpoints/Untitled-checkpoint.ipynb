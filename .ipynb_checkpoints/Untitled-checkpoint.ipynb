{
 "cells": [
  {
   "cell_type": "markdown",
   "id": "b23ebe90",
   "metadata": {},
   "source": [
    "# Python List and Boolean Variables"
   ]
  },
  {
   "cell_type": "code",
   "execution_count": 4,
   "id": "01e095bb",
   "metadata": {},
   "outputs": [
    {
     "data": {
      "text/plain": [
       "False"
      ]
     },
     "execution_count": 4,
     "metadata": {},
     "output_type": "execute_result"
    }
   ],
   "source": [
    "bool()"
   ]
  },
  {
   "cell_type": "code",
   "execution_count": 7,
   "id": "4f98525c",
   "metadata": {},
   "outputs": [
    {
     "name": "stdout",
     "output_type": "stream",
     "text": [
      "<class 'bool'>\n"
     ]
    }
   ],
   "source": [
    "print(type(True))"
   ]
  },
  {
   "cell_type": "code",
   "execution_count": 17,
   "id": "fbe31148",
   "metadata": {},
   "outputs": [
    {
     "data": {
      "text/plain": [
       "True"
      ]
     },
     "execution_count": 17,
     "metadata": {},
     "output_type": "execute_result"
    }
   ],
   "source": [
    "True and True"
   ]
  },
  {
   "cell_type": "code",
   "execution_count": 18,
   "id": "7a80e004",
   "metadata": {},
   "outputs": [
    {
     "data": {
      "text/plain": [
       "True"
      ]
     },
     "execution_count": 18,
     "metadata": {},
     "output_type": "execute_result"
    }
   ],
   "source": [
    "True or False"
   ]
  },
  {
   "cell_type": "code",
   "execution_count": 21,
   "id": "ab27773f",
   "metadata": {},
   "outputs": [],
   "source": [
    "name = \"nanannan\""
   ]
  },
  {
   "cell_type": "code",
   "execution_count": 22,
   "id": "a95df5cc",
   "metadata": {},
   "outputs": [
    {
     "data": {
      "text/plain": [
       "True"
      ]
     },
     "execution_count": 22,
     "metadata": {},
     "output_type": "execute_result"
    }
   ],
   "source": [
    "name.isalnum()"
   ]
  },
  {
   "cell_type": "code",
   "execution_count": 26,
   "id": "9e750656",
   "metadata": {},
   "outputs": [
    {
     "data": {
      "text/plain": [
       "False"
      ]
     },
     "execution_count": 26,
     "metadata": {},
     "output_type": "execute_result"
    }
   ],
   "source": [
    "name.istitle()"
   ]
  },
  {
   "cell_type": "markdown",
   "id": "df171c88",
   "metadata": {},
   "source": [
    "# list"
   ]
  },
  {
   "cell_type": "code",
   "execution_count": 27,
   "id": "effa6a30",
   "metadata": {},
   "outputs": [
    {
     "name": "stdout",
     "output_type": "stream",
     "text": [
      "<class 'list'>\n"
     ]
    }
   ],
   "source": [
    "print(type([]))"
   ]
  },
  {
   "cell_type": "code",
   "execution_count": 28,
   "id": "d945bb6a",
   "metadata": {},
   "outputs": [],
   "source": [
    "name  = [\"ahhaha\",3,\"sdsd\"]"
   ]
  },
  {
   "cell_type": "code",
   "execution_count": 29,
   "id": "da9c1623",
   "metadata": {},
   "outputs": [
    {
     "data": {
      "text/plain": [
       "['ahhaha', 3, 'sdsd']"
      ]
     },
     "execution_count": 29,
     "metadata": {},
     "output_type": "execute_result"
    }
   ],
   "source": [
    "name"
   ]
  },
  {
   "cell_type": "code",
   "execution_count": 31,
   "id": "c1c0384b",
   "metadata": {},
   "outputs": [
    {
     "data": {
      "text/plain": [
       "'sdsd'"
      ]
     },
     "execution_count": 31,
     "metadata": {},
     "output_type": "execute_result"
    }
   ],
   "source": [
    "name.pop()"
   ]
  },
  {
   "cell_type": "code",
   "execution_count": 32,
   "id": "009c2831",
   "metadata": {},
   "outputs": [
    {
     "data": {
      "text/plain": [
       "['ahhaha', 3]"
      ]
     },
     "execution_count": 32,
     "metadata": {},
     "output_type": "execute_result"
    }
   ],
   "source": [
    "name "
   ]
  },
  {
   "cell_type": "code",
   "execution_count": 36,
   "id": "42329413",
   "metadata": {},
   "outputs": [],
   "source": [
    "name.insert(2,\"djdjjd\")"
   ]
  },
  {
   "cell_type": "code",
   "execution_count": 37,
   "id": "1964d096",
   "metadata": {},
   "outputs": [
    {
     "data": {
      "text/plain": [
       "['ahhaha', 3, 'djdjjd']"
      ]
     },
     "execution_count": 37,
     "metadata": {},
     "output_type": "execute_result"
    }
   ],
   "source": [
    "name"
   ]
  },
  {
   "cell_type": "code",
   "execution_count": 38,
   "id": "e7335d73",
   "metadata": {},
   "outputs": [],
   "source": [
    "name.insert?"
   ]
  },
  {
   "cell_type": "code",
   "execution_count": 39,
   "id": "a9e8a5f6",
   "metadata": {},
   "outputs": [],
   "source": [
    " lst  = list()"
   ]
  },
  {
   "cell_type": "code",
   "execution_count": 40,
   "id": "0e4e1115",
   "metadata": {},
   "outputs": [],
   "source": [
    "lst.append(\"ahhahha\")"
   ]
  },
  {
   "cell_type": "code",
   "execution_count": 41,
   "id": "cd9b0d9c",
   "metadata": {},
   "outputs": [
    {
     "data": {
      "text/plain": [
       "['ahhahha']"
      ]
     },
     "execution_count": 41,
     "metadata": {},
     "output_type": "execute_result"
    }
   ],
   "source": [
    "lst"
   ]
  },
  {
   "cell_type": "code",
   "execution_count": 42,
   "id": "69168b88",
   "metadata": {},
   "outputs": [
    {
     "data": {
      "text/plain": [
       "1"
      ]
     },
     "execution_count": 42,
     "metadata": {},
     "output_type": "execute_result"
    }
   ],
   "source": [
    "len(lst)"
   ]
  },
  {
   "cell_type": "markdown",
   "id": "fb875c6d",
   "metadata": {},
   "source": [
    "## extend"
   ]
  },
  {
   "cell_type": "code",
   "execution_count": 43,
   "id": "312d8486",
   "metadata": {},
   "outputs": [],
   "source": [
    "lst.extend([\"ssjsjs\",77])"
   ]
  },
  {
   "cell_type": "code",
   "execution_count": 44,
   "id": "b9022fc1",
   "metadata": {},
   "outputs": [
    {
     "data": {
      "text/plain": [
       "['ahhahha', 'ssjsjs', 77]"
      ]
     },
     "execution_count": 44,
     "metadata": {},
     "output_type": "execute_result"
    }
   ],
   "source": [
    "lst"
   ]
  },
  {
   "cell_type": "markdown",
   "id": "bfc9d9ff",
   "metadata": {},
   "source": [
    "## opperationa"
   ]
  },
  {
   "cell_type": "code",
   "execution_count": 47,
   "id": "b5eb4cba",
   "metadata": {},
   "outputs": [
    {
     "ename": "TypeError",
     "evalue": "unsupported operand type(s) for +: 'int' and 'str'",
     "output_type": "error",
     "traceback": [
      "\u001b[1;31m---------------------------------------------------------------------------\u001b[0m",
      "\u001b[1;31mTypeError\u001b[0m                                 Traceback (most recent call last)",
      "\u001b[1;32m~\\AppData\\Local\\Temp/ipykernel_18472/3520952788.py\u001b[0m in \u001b[0;36m<module>\u001b[1;34m\u001b[0m\n\u001b[1;32m----> 1\u001b[1;33m \u001b[0msum\u001b[0m\u001b[1;33m(\u001b[0m\u001b[0mlst\u001b[0m\u001b[1;33m)\u001b[0m\u001b[1;33m\u001b[0m\u001b[1;33m\u001b[0m\u001b[0m\n\u001b[0m",
      "\u001b[1;31mTypeError\u001b[0m: unsupported operand type(s) for +: 'int' and 'str'"
     ]
    }
   ],
   "source": []
  },
  {
   "cell_type": "markdown",
   "id": "a67ef578",
   "metadata": {},
   "source": [
    "## count elemetns\n"
   ]
  },
  {
   "cell_type": "code",
   "execution_count": 48,
   "id": "c94e17d3",
   "metadata": {},
   "outputs": [
    {
     "data": {
      "text/plain": [
       "0"
      ]
     },
     "execution_count": 48,
     "metadata": {},
     "output_type": "execute_result"
    }
   ],
   "source": [
    "lst.count(4)"
   ]
  },
  {
   "cell_type": "markdown",
   "id": "d7909b67",
   "metadata": {},
   "source": [
    "### multiplication is duplication"
   ]
  },
  {
   "cell_type": "code",
   "execution_count": 49,
   "id": "792a8071",
   "metadata": {},
   "outputs": [
    {
     "data": {
      "text/plain": [
       "['ahhahha',\n",
       " 'ssjsjs',\n",
       " 77,\n",
       " 'ahhahha',\n",
       " 'ssjsjs',\n",
       " 77,\n",
       " 'ahhahha',\n",
       " 'ssjsjs',\n",
       " 77,\n",
       " 'ahhahha',\n",
       " 'ssjsjs',\n",
       " 77,\n",
       " 'ahhahha',\n",
       " 'ssjsjs',\n",
       " 77]"
      ]
     },
     "execution_count": 49,
     "metadata": {},
     "output_type": "execute_result"
    }
   ],
   "source": [
    "lst*5 "
   ]
  },
  {
   "cell_type": "code",
   "execution_count": null,
   "id": "c454bc08",
   "metadata": {},
   "outputs": [],
   "source": []
  }
 ],
 "metadata": {
  "kernelspec": {
   "display_name": "Python 3 (ipykernel)",
   "language": "python",
   "name": "python3"
  },
  "language_info": {
   "codemirror_mode": {
    "name": "ipython",
    "version": 3
   },
   "file_extension": ".py",
   "mimetype": "text/x-python",
   "name": "python",
   "nbconvert_exporter": "python",
   "pygments_lexer": "ipython3",
   "version": "3.9.7"
  }
 },
 "nbformat": 4,
 "nbformat_minor": 5
}
